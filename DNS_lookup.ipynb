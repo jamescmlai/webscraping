{
 "cells": [
  {
   "cell_type": "markdown",
   "metadata": {},
   "source": [
    "## Webscraping: the hunt for more customer information"
   ]
  },
  {
   "cell_type": "markdown",
   "metadata": {},
   "source": [
    "We have customer websites that were provided when a customer registered, this is a non-mandatory field and is not always complete or has spurious information.\n",
    "\n",
    "Step One:  Run a DNS lookup to check if listed websites are active, and confirm what e-comm platform they are on.\n",
    "\n",
    "Step Two:  Following the above, run a webscrape against the active websites.\n"
   ]
  },
  {
   "cell_type": "code",
   "execution_count": 73,
   "metadata": {
    "collapsed": true
   },
   "outputs": [],
   "source": [
    "import subprocess"
   ]
  },
  {
   "cell_type": "code",
   "execution_count": 74,
   "metadata": {
    "collapsed": true
   },
   "outputs": [],
   "source": [
    "# Call the program 'host' to do a DNS lookup\n",
    "# fix for future, append 'customerId' for indexing.\n",
    "\n",
    "dns_lookups = 1 \n",
    "def dns_info(website):\n",
    "    website_unchanged = website\n",
    "    global dns_lookups\n",
    "    print dns_lookups, website, type(website)\n",
    "    dns_lookups += 1\n",
    "    if type(website) == float:\n",
    "        return { 'dns_lookup': 'no name specified', 'website': website_unchanged,\n",
    "            'wix': False, 'shopify': False, 'bigcommerce': False, 'valid_domain': False, 'expired_domain': False}        \n",
    "    website = website.lower()\n",
    "    if website.startswith('http://'):\n",
    "        website = website[7:]\n",
    "    if website.startswith('https://'):\n",
    "        website = website[8:]\n",
    "    website = website.split('/')[0]\n",
    "    if '.' not in website:\n",
    "        return { 'dns_lookup': 'missing .', 'website': website_unchanged,\n",
    "            'wix': False, 'shopify': False, 'bigcommerce': False, 'valid_domain': False, 'expired_domain': False}\n",
    "\n",
    "    try:\n",
    "        dns_lookup = subprocess.check_output(['host', website])\n",
    "        return { 'dns_lookup': dns_lookup,  'website': website_unchanged,\n",
    "                'wix': 'wix' in dns_lookup,\n",
    "                'shopify':  'shopify' in dns_lookup,\n",
    "                'bigcommerce': 'bigcommerce' in dns_lookup,\n",
    "                'valid_domain': True, \n",
    "                'expired_domain': False\n",
    "               }\n",
    "    except subprocess.CalledProcessError:\n",
    "        return { 'dns_lookup': 'no such domain',  'website': website_unchanged,\n",
    "            'wix': False, 'shopify': False, 'bigcommerce': False, 'valid_domain': True, 'expired_domain': True}"
   ]
  },
  {
   "cell_type": "code",
   "execution_count": 75,
   "metadata": {},
   "outputs": [
    {
     "name": "stdout",
     "output_type": "stream",
     "text": [
      "1 www.zopella.com <type 'str'>\n"
     ]
    },
    {
     "data": {
      "text/plain": [
       "{'bigcommerce': False,\n",
       " 'dns_lookup': 'www.zopella.com is an alias for edgetrade.myshopify.com.\\nedgetrade.myshopify.com is an alias for shops.myshopify.com.\\nshops.myshopify.com has address 23.227.38.64\\n',\n",
       " 'expired_domain': False,\n",
       " 'shopify': True,\n",
       " 'valid_domain': True,\n",
       " 'website': 'www.zopella.com',\n",
       " 'wix': False}"
      ]
     },
     "execution_count": 75,
     "metadata": {},
     "output_type": "execute_result"
    }
   ],
   "source": [
    "# example of the outputs from above:\n",
    "dns_info('www.zopella.com')"
   ]
  },
  {
   "cell_type": "code",
   "execution_count": 76,
   "metadata": {},
   "outputs": [
    {
     "name": "stdout",
     "output_type": "stream",
     "text": [
      "2 www.sovereignglobaladvisors.com <type 'str'>\n",
      "3 http://sansche-yoga.com/ <type 'str'>\n",
      "4 amazon.co.uk <type 'str'>\n",
      "5 www.zopella.com <type 'str'>\n",
      "6 zachhiltyphoto.com <type 'str'>\n",
      "7 www.jainson.net <type 'str'>\n",
      "8 http://www.illumenature.com <type 'str'>\n",
      "9 paperboyshop.com <type 'str'>\n",
      "10 Www.lachish-homemade-body-scrubs@myshopify.com <type 'str'>\n",
      "11 glitzplugsbybee.storenvy.com <type 'str'>\n"
     ]
    },
    {
     "data": {
      "text/html": [
       "<div>\n",
       "<style>\n",
       "    .dataframe thead tr:only-child th {\n",
       "        text-align: right;\n",
       "    }\n",
       "\n",
       "    .dataframe thead th {\n",
       "        text-align: left;\n",
       "    }\n",
       "\n",
       "    .dataframe tbody tr th {\n",
       "        vertical-align: top;\n",
       "    }\n",
       "</style>\n",
       "<table border=\"1\" class=\"dataframe\">\n",
       "  <thead>\n",
       "    <tr style=\"text-align: right;\">\n",
       "      <th></th>\n",
       "      <th>bigcommerce</th>\n",
       "      <th>dns_lookup</th>\n",
       "      <th>expired_domain</th>\n",
       "      <th>shopify</th>\n",
       "      <th>valid_domain</th>\n",
       "      <th>website</th>\n",
       "      <th>wix</th>\n",
       "    </tr>\n",
       "  </thead>\n",
       "  <tbody>\n",
       "    <tr>\n",
       "      <th>0</th>\n",
       "      <td>False</td>\n",
       "      <td>www.sovereignglobaladvisors.com is an alias fo...</td>\n",
       "      <td>False</td>\n",
       "      <td>False</td>\n",
       "      <td>True</td>\n",
       "      <td>www.sovereignglobaladvisors.com</td>\n",
       "      <td>True</td>\n",
       "    </tr>\n",
       "    <tr>\n",
       "      <th>1</th>\n",
       "      <td>False</td>\n",
       "      <td>sansche-yoga.com has address 192.0.78.25\\nsans...</td>\n",
       "      <td>False</td>\n",
       "      <td>False</td>\n",
       "      <td>True</td>\n",
       "      <td>http://sansche-yoga.com/</td>\n",
       "      <td>False</td>\n",
       "    </tr>\n",
       "    <tr>\n",
       "      <th>2</th>\n",
       "      <td>False</td>\n",
       "      <td>amazon.co.uk has address 176.32.108.186\\namazo...</td>\n",
       "      <td>False</td>\n",
       "      <td>False</td>\n",
       "      <td>True</td>\n",
       "      <td>amazon.co.uk</td>\n",
       "      <td>False</td>\n",
       "    </tr>\n",
       "    <tr>\n",
       "      <th>3</th>\n",
       "      <td>False</td>\n",
       "      <td>www.zopella.com is an alias for edgetrade.mysh...</td>\n",
       "      <td>False</td>\n",
       "      <td>True</td>\n",
       "      <td>True</td>\n",
       "      <td>www.zopella.com</td>\n",
       "      <td>False</td>\n",
       "    </tr>\n",
       "    <tr>\n",
       "      <th>4</th>\n",
       "      <td>False</td>\n",
       "      <td>zachhiltyphoto.com has address 198.49.23.145\\n</td>\n",
       "      <td>False</td>\n",
       "      <td>False</td>\n",
       "      <td>True</td>\n",
       "      <td>zachhiltyphoto.com</td>\n",
       "      <td>False</td>\n",
       "    </tr>\n",
       "    <tr>\n",
       "      <th>5</th>\n",
       "      <td>False</td>\n",
       "      <td>no such domain</td>\n",
       "      <td>True</td>\n",
       "      <td>False</td>\n",
       "      <td>True</td>\n",
       "      <td>www.jainson.net</td>\n",
       "      <td>False</td>\n",
       "    </tr>\n",
       "    <tr>\n",
       "      <th>6</th>\n",
       "      <td>True</td>\n",
       "      <td>www.illumenature.com is an alias for illumenat...</td>\n",
       "      <td>False</td>\n",
       "      <td>False</td>\n",
       "      <td>True</td>\n",
       "      <td>http://www.illumenature.com</td>\n",
       "      <td>False</td>\n",
       "    </tr>\n",
       "    <tr>\n",
       "      <th>7</th>\n",
       "      <td>False</td>\n",
       "      <td>paperboyshop.com has address 98.124.199.46\\npa...</td>\n",
       "      <td>False</td>\n",
       "      <td>False</td>\n",
       "      <td>True</td>\n",
       "      <td>paperboyshop.com</td>\n",
       "      <td>False</td>\n",
       "    </tr>\n",
       "    <tr>\n",
       "      <th>8</th>\n",
       "      <td>False</td>\n",
       "      <td>no such domain</td>\n",
       "      <td>True</td>\n",
       "      <td>False</td>\n",
       "      <td>True</td>\n",
       "      <td>Www.lachish-homemade-body-scrubs@myshopify.com</td>\n",
       "      <td>False</td>\n",
       "    </tr>\n",
       "    <tr>\n",
       "      <th>9</th>\n",
       "      <td>False</td>\n",
       "      <td>glitzplugsbybee.storenvy.com has address 104.2...</td>\n",
       "      <td>False</td>\n",
       "      <td>False</td>\n",
       "      <td>True</td>\n",
       "      <td>glitzplugsbybee.storenvy.com</td>\n",
       "      <td>False</td>\n",
       "    </tr>\n",
       "  </tbody>\n",
       "</table>\n",
       "</div>"
      ],
      "text/plain": [
       "   bigcommerce                                         dns_lookup  \\\n",
       "0        False  www.sovereignglobaladvisors.com is an alias fo...   \n",
       "1        False  sansche-yoga.com has address 192.0.78.25\\nsans...   \n",
       "2        False  amazon.co.uk has address 176.32.108.186\\namazo...   \n",
       "3        False  www.zopella.com is an alias for edgetrade.mysh...   \n",
       "4        False     zachhiltyphoto.com has address 198.49.23.145\\n   \n",
       "5        False                                     no such domain   \n",
       "6         True  www.illumenature.com is an alias for illumenat...   \n",
       "7        False  paperboyshop.com has address 98.124.199.46\\npa...   \n",
       "8        False                                     no such domain   \n",
       "9        False  glitzplugsbybee.storenvy.com has address 104.2...   \n",
       "\n",
       "   expired_domain  shopify  valid_domain  \\\n",
       "0           False    False          True   \n",
       "1           False    False          True   \n",
       "2           False    False          True   \n",
       "3           False     True          True   \n",
       "4           False    False          True   \n",
       "5            True    False          True   \n",
       "6           False    False          True   \n",
       "7           False    False          True   \n",
       "8            True    False          True   \n",
       "9           False    False          True   \n",
       "\n",
       "                                          website    wix  \n",
       "0                 www.sovereignglobaladvisors.com   True  \n",
       "1                        http://sansche-yoga.com/  False  \n",
       "2                                    amazon.co.uk  False  \n",
       "3                                 www.zopella.com  False  \n",
       "4                              zachhiltyphoto.com  False  \n",
       "5                                 www.jainson.net  False  \n",
       "6                     http://www.illumenature.com  False  \n",
       "7                                paperboyshop.com  False  \n",
       "8  Www.lachish-homemade-body-scrubs@myshopify.com  False  \n",
       "9                    glitzplugsbybee.storenvy.com  False  "
      ]
     },
     "execution_count": 76,
     "metadata": {},
     "output_type": "execute_result"
    }
   ],
   "source": [
    "# this is only running on .head(10) for the sake of demonstration\n",
    "\n",
    "dns_df = pd.DataFrame(list(customers.site.head(10).map(dns_info)))\n",
    "dns_df"
   ]
  },
  {
   "cell_type": "markdown",
   "metadata": {
    "collapsed": true
   },
   "source": [
    "this can now be exported to CSV for use in a separate notebook / analysis"
   ]
  },
  {
   "cell_type": "code",
   "execution_count": null,
   "metadata": {
    "collapsed": true
   },
   "outputs": [],
   "source": []
  }
 ],
 "metadata": {
  "kernelspec": {
   "display_name": "Python 2",
   "language": "python",
   "name": "python2"
  },
  "language_info": {
   "codemirror_mode": {
    "name": "ipython",
    "version": 2
   },
   "file_extension": ".py",
   "mimetype": "text/x-python",
   "name": "python",
   "nbconvert_exporter": "python",
   "pygments_lexer": "ipython2",
   "version": "2.7.13"
  }
 },
 "nbformat": 4,
 "nbformat_minor": 2
}
